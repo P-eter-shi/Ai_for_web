{
  "nbformat": 4,
  "nbformat_minor": 0,
  "metadata": {
    "colab": {
      "provenance": [],
      "authorship_tag": "ABX9TyNkchaghCGE/68eVClWER0/",
      "include_colab_link": true
    },
    "kernelspec": {
      "name": "python3",
      "display_name": "Python 3"
    },
    "language_info": {
      "name": "python"
    }
  },
  "cells": [
    {
      "cell_type": "markdown",
      "metadata": {
        "id": "view-in-github",
        "colab_type": "text"
      },
      "source": [
        "<a href=\"https://colab.research.google.com/github/P-eter-shi/Ai_for_web/blob/main/ShortQuesions.ipynb\" target=\"_parent\"><img src=\"https://colab.research.google.com/assets/colab-badge.svg\" alt=\"Open In Colab\"/></a>"
      ]
    },
    {
      "cell_type": "markdown",
      "source": [
        "Q1: Primary differences between TensorFlow and PyTorch\n",
        "\n",
        "    TensorFlow:\n",
        "\n",
        "        Developed by Google, more production-oriented with TensorFlow Serving and TF Lite.\n",
        "        Uses static computation graphs (though eager execution is now default).\n",
        "        Stronger deployment support (mobile, web, edge devices).\n",
        "        Preferred for large-scale production systems.\n",
        "\n",
        "    PyTorch:\n",
        "\n",
        "        Developed by Facebook, more research-friendly with dynamic computation graphs.\n",
        "        More Pythonic and intuitive for debugging.\n",
        "        Dominates academic research and rapid prototyping.\n",
        "        Preferred for experimentation and custom model architectures.\n",
        "\n",
        "When to choose?\n",
        "\n",
        "    TensorFlow: Production deployment, mobile/edge AI, enterprise applications.\n",
        "    PyTorch: Research, fast prototyping, dynamic neural networks.\n",
        "\n",
        "Q2: Two use cases for Jupyter Notebooks in AI development\n",
        "\n",
        "    Interactive Model Prototyping – Quickly test ML models, visualize data, and tweak hyperparameters in real-time.\n",
        "    Data Exploration & Visualization – Use pandas, Matplotlib, and Seaborn to analyze datasets before training.\n",
        "\n",
        "Q3: How spaCy enhances NLP vs. basic Python string operations\n",
        "\n",
        "    Linguistic Features: spaCy provides pre-trained models for POS tagging, NER, and dependency parsing, unlike basic string ops.\n",
        "    Efficiency: Optimized for large-scale text processing (written in Cython).\n",
        "    Rule-Based Matching: Advanced pattern matching (e.g., Matcher, PhraseMatcher) beyond regex.\n",
        "    Preprocessing: Built-in tokenization, lemmatization, and stopword removal.\n",
        "\n",
        "Comparative Analysis: Scikit-learn vs. TensorFlow\n",
        "1. Target Applications\n",
        "\n",
        "    Scikit-learn: Best for classical ML (linear regression, SVM, random forests).\n",
        "    TensorFlow: Designed for deep learning (CNNs, RNNs, transformers).\n",
        "\n",
        "2. Ease of Use for Beginners\n",
        "\n",
        "    Scikit-learn: Simpler API, fewer dependencies, better for beginners in ML.\n",
        "    TensorFlow: Steeper learning curve due to computational graphs and GPU setup.\n",
        "\n",
        "3. Community Support\n",
        "\n",
        "    Scikit-learn: Strong for traditional ML, well-documented, but less active in cutting-edge DL.\n",
        "    TensorFlow: Larger ecosystem (Keras, TF Hub), more industry adoption, extensive tutorials."
      ],
      "metadata": {
        "id": "IVRZ5NCIDHiR"
      }
    }
  ]
}